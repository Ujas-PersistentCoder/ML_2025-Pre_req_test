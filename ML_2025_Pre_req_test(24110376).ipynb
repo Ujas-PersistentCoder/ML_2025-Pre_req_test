{
 "cells": [
  {
   "cell_type": "code",
   "execution_count": 1,
   "metadata": {
    "id": "fYkWzeBWdsiF"
   },
   "outputs": [],
   "source": [
    "import numpy as np\n",
    "import time\n",
    "import random\n",
    "import jax\n",
    "import jax.numpy as jnp\n",
    "import sympy as sp\n",
    "import matplotlib.pyplot as plt\n",
    "import pandas as pd"
   ]
  },
  {
   "cell_type": "markdown",
   "metadata": {
    "id": "IXGG_CDbCijs"
   },
   "source": [
    "***1. How many multiplications and additions do you need to perform a matrix multiplication between a (n, k) and (k, m) matrix? Explain.***"
   ]
  },
  {
   "cell_type": "markdown",
   "metadata": {
    "id": "xCNWndtWDA5V"
   },
   "source": [
    "To multiply a (n, k) and a (k, m) matrix,\n",
    "$$\\text{No. of Multiplications required} = n \\times m \\times k$$\n",
    "$$\\text{No. of Additions required} = n \\times m \\times (k-1)$$\n",
    "\n",
    "This is because, while multiplying two matrix using traditional matrix multiplication,\n",
    "- We take each row (k elements) from the first matrix and multiply them element-wise from every column (each of k elements) of the second matrix.\n",
    "- For each pair of row and columns, we add the products i.e., there would be k products and k-1 additions.\n",
    "- Since this is repeated for m columns for each row and a total of n rows, it results in a total of $n \\times m \\times k$ mutliplications and $n \\times m \\times (k-1)$ additions."
   ]
  },
  {
   "cell_type": "markdown",
   "metadata": {
    "id": "ERv_C9VyCqG4"
   },
   "source": [
    "***2. Write Python code to multiply the above two matrices. Solve using list of lists and then use numpy. Compare the timing of both solutions. Which one is faster? Why?***"
   ]
  },
  {
   "cell_type": "markdown",
   "metadata": {
    "id": "IQXUHaY0a11c"
   },
   "source": [
    "Example matrix taken :\n",
    "$$\\begin{bmatrix}\n",
    "1 & 2 \\\\\n",
    "3 & 4 \\\\\n",
    "5 & 6\n",
    "\\end{bmatrix}\n",
    "\\qquad\n",
    "\\begin{bmatrix}\n",
    "1 & 2 & 3 & 4 \\\\\n",
    "5 & 6 & 7 & 8\n",
    "\\end{bmatrix}\n",
    "$$\n"
   ]
  },
  {
   "cell_type": "code",
   "execution_count": 2,
   "metadata": {
    "colab": {
     "base_uri": "https://localhost:8080/"
    },
    "id": "mP2-0V_baBN5",
    "outputId": "75f835a7-74ff-41c4-8b86-0e7c97132e94"
   },
   "outputs": [
    {
     "name": "stdout",
     "output_type": "stream",
     "text": [
      "[11, 14, 17, 20]\n",
      "[23, 30, 37, 44]\n",
      "[35, 46, 57, 68]\n",
      "Time taken = 0.31066 ms\n"
     ]
    }
   ],
   "source": [
    "#Using list of lists:\n",
    "\n",
    "mat1 = [[1, 2], [3, 4], [5, 6]]\n",
    "mat2 = [[1, 2, 3, 4], [5, 6, 7, 8]]\n",
    "row, col, k = len(mat1), len(mat2[0]), len(mat1[0])\n",
    "\n",
    "start = time.time()\n",
    "\n",
    "res = [[0 for _ in range(col)] for _ in range(row)]\n",
    "for i in range(row):\n",
    "  for j in range(col):\n",
    "    for l in range(k):\n",
    "      res[i][j] += mat1[i][l] * mat2[l][j]\n",
    "\n",
    "end = time.time()\n",
    "\n",
    "for row in res:\n",
    "  print(row)\n",
    "\n",
    "print (\"Time taken =\", round((end - start)*1000, 5),\"ms\")"
   ]
  },
  {
   "cell_type": "code",
   "execution_count": 3,
   "metadata": {
    "colab": {
     "base_uri": "https://localhost:8080/"
    },
    "id": "tnNekZ3KeT-k",
    "outputId": "664dc3d6-fc92-4f04-d3a5-a06aadc4bc07"
   },
   "outputs": [
    {
     "name": "stdout",
     "output_type": "stream",
     "text": [
      "[11 14 17 20]\n",
      "[23 30 37 44]\n",
      "[35 46 57 68]\n",
      "Time taken = 0.16093 ms\n"
     ]
    }
   ],
   "source": [
    "#Using Numpy\n",
    "\n",
    "matA = np.array(mat1)\n",
    "matB = np.array(mat2)\n",
    "\n",
    "start = time.time()\n",
    "\n",
    "res = matA @ matB #or np.matmul(A, B)\n",
    "\n",
    "end = time.time()\n",
    "\n",
    "for row in res:\n",
    "  print (row)\n",
    "\n",
    "print (\"Time taken =\", round((end - start)*1000, 5),\"ms\")"
   ]
  },
  {
   "cell_type": "markdown",
   "metadata": {
    "id": "NDkLgSyAe_LL"
   },
   "source": [
    "Matrix Multiplication in python is visibly faster through Numpy than through nested lists."
   ]
  },
  {
   "cell_type": "markdown",
   "metadata": {
    "id": "-lZJa97VfY6b"
   },
   "source": [
    "This is because:\n",
    "- Numpy is written in C, which is faster than python.\n",
    "- Instead of processing one element at a time in nested loops, NumPy processes entire arrays.\n",
    "- NumPy relies on libraries that are made just for fast matrix calculations.\n",
    "- Numpy organises and used memory in a more faster and efficient way then the overheads of nested lists.\n",
    "- It is designed for faster calculations of large data."
   ]
  },
  {
   "cell_type": "markdown",
   "metadata": {
    "id": "4UmEoSx3CzqC"
   },
   "source": [
    "***3. Finding the highest element in a list requires one pass of the array. Finding the second highest element requires 2 passes of the array. Using this method, what is the time complexity of finding the median of the array? Can you suggest a better method? Can you implement both these methods in Python and compare against numpy.median routine in terms of time?***"
   ]
  },
  {
   "cell_type": "code",
   "execution_count": 4,
   "metadata": {
    "id": "a3WBY1yWpJJ_"
   },
   "outputs": [],
   "source": [
    "#A random sized array for working upon in this answer\n",
    "arr = [random.randint(1, 1000) for _ in range(random.randint(9999, 10001))]"
   ]
  },
  {
   "cell_type": "markdown",
   "metadata": {
    "id": "vmqy89TmlA_I"
   },
   "source": [
    "Using the first and the most brute force or crude method, it takes O(n) for each pass and for finding the $k^{th}$ highest element, it takes $k$ passes. So for finding the median, which would nearly be the $(n/2)^{th}$ highest element,\n",
    "Time Complexity will be nearly:\n",
    "$$\n",
    "\\frac{n}{2} \\times O(n) = O(n^2)\n",
    "$$\n"
   ]
  },
  {
   "cell_type": "code",
   "execution_count": 5,
   "metadata": {
    "colab": {
     "base_uri": "https://localhost:8080/"
    },
    "id": "Uo6QcjR9n5ke",
    "outputId": "47c271cb-0af9-4cc2-8589-acdf810cbe99"
   },
   "outputs": [
    {
     "name": "stdout",
     "output_type": "stream",
     "text": [
      "501\n",
      "Time taken = 2444.33904 ms\n"
     ]
    }
   ],
   "source": [
    "def find_kth_largest(arr, k):\n",
    "    for _ in range(k):\n",
    "        max_val = max(arr)\n",
    "        arr.remove(max_val)\n",
    "    return max_val\n",
    "\n",
    "start = time.time()\n",
    "\n",
    "n = len(arr)\n",
    "k = (n + 1) // 2\n",
    "\n",
    "if n % 2 == 1:\n",
    "  print(find_kth_largest(arr.copy(), k))\n",
    "else:\n",
    "  mid1 = find_kth_largest(arr.copy(), k)\n",
    "  mid2 = find_kth_largest(arr.copy(), k + 1)\n",
    "  print((mid1 + mid2) / 2)\n",
    "\n",
    "end = time.time()\n",
    "print(\"Time taken =\", round((end - start)*1000, 5),\"ms\")"
   ]
  },
  {
   "cell_type": "markdown",
   "metadata": {
    "id": "mCRpnADZmvfw"
   },
   "source": [
    "A better approach, considering the $O(n^2)$ time complexity of the previous method can be to first sort the array through sorting algorithms like merge sort or quick sort, which use $O(n\\text{ }logn)$ to sort and then it would a $O(1)$ operation to find the median.\n",
    "\n",
    "Resulting overall Time Complexity = $O(n\\text{ }logn)$\n",
    "\n",
    "\n",
    "To implement this in python, we can use the .sort() method which uses Timsort , nearly of the same time complexity as quick sort or merge sort.\n"
   ]
  },
  {
   "cell_type": "code",
   "execution_count": 6,
   "metadata": {
    "colab": {
     "base_uri": "https://localhost:8080/"
    },
    "id": "M6zF06iPlHH_",
    "outputId": "b8902315-da5b-44e9-e5a7-c693c189156a"
   },
   "outputs": [
    {
     "name": "stdout",
     "output_type": "stream",
     "text": [
      "501\n",
      "Time taken = 2.73943 ms\n"
     ]
    }
   ],
   "source": [
    "arr_copy = arr.copy()\n",
    "\n",
    "start = time.time()\n",
    "\n",
    "arr_copy.sort() #takes O(n logn)\n",
    "n = len(arr)\n",
    "\n",
    "if (n%2):\n",
    "  print(arr_copy[n//2])\n",
    "else:\n",
    "  print((arr_copy[n//2]+arr_copy[n//2-1])/2)\n",
    "\n",
    "end = time.time()\n",
    "print(\"Time taken =\", round((end - start)*1000, 5),\"ms\")"
   ]
  },
  {
   "cell_type": "markdown",
   "metadata": {
    "id": "HOKPKGP4qlkp"
   },
   "source": [
    "Finding median through numpy.median() :"
   ]
  },
  {
   "cell_type": "code",
   "execution_count": 7,
   "metadata": {
    "colab": {
     "base_uri": "https://localhost:8080/"
    },
    "id": "0ADA4M_npYw9",
    "outputId": "7fd8dac2-2bf1-44b9-d234-a217e1845999"
   },
   "outputs": [
    {
     "name": "stdout",
     "output_type": "stream",
     "text": [
      "501.0\n",
      "Time taken = 1.42074 ms\n"
     ]
    }
   ],
   "source": [
    "arr_np = np.array(arr)\n",
    "\n",
    "start = time.time()\n",
    "\n",
    "med = np.median(arr_np)\n",
    "print(med)\n",
    "\n",
    "end = time.time()\n",
    "print(\"Time taken =\", round((end - start)*1000, 5),\"ms\")"
   ]
  },
  {
   "cell_type": "markdown",
   "metadata": {
    "id": "70pykVBzN13o"
   },
   "source": [
    "It can be clearly observed that the first method is extremely slow, slower by nearly a factor of $10^3$, which in turn is expected because of the Time complexity of order $O(n^2)$.\n",
    "\n",
    "Then, the second algorithm proposed can be seen to be comparatively very efficient, reducing the time drastically. It seems to be the ideal approach.\n",
    "\n",
    "On deeper analysis it can be found that for large values of data(as the example taken here) numpy.median is faster, though not drastically. But for smaller arrays, the .sort() is quite faster.\n",
    "\n",
    "This is because the numpy is written with the sole purpose of handling higher computation and large amount of data. Though the basic idea behind the hood is same, it has a slight different sorting algo being used underneath.....thus the difference in the time taken for different sizes of arrays, even though both have time complexity of $O(n logn)$.\n",
    "\n",
    "Still it cannot be argued that numpy.median is the fastest method for large arrays."
   ]
  },
  {
   "cell_type": "markdown",
   "metadata": {
    "id": "-aoj2t-7CWWT"
   },
   "source": [
    "***4. What is the gradient of the following function with respect to x and y?***\n",
    "$$ x^2 y + y^3 sin(x)$$"
   ]
  },
  {
   "cell_type": "markdown",
   "metadata": {
    "id": "Zp6pN8hqCm_9"
   },
   "source": [
    "The gradient of the function with respect to x and y is given by the corresponding partial derivatives:\n",
    "\n",
    "$$\n",
    "\\frac{\\partial f}{\\partial x} = 2xy + y^3 \\cos x\n",
    "$$\n",
    "\n",
    "$$\n",
    "\\frac{\\partial f}{\\partial y} = x^2 + 3y^2 \\sin x\n",
    "$$"
   ]
  },
  {
   "cell_type": "markdown",
   "metadata": {
    "id": "WxSdxuhjHfJw"
   },
   "source": [
    "***5. Use JAX to confirm the gradient evaluated by your method matches the analytical solution corresponding to a few random values of x and y***"
   ]
  },
  {
   "cell_type": "code",
   "execution_count": 8,
   "metadata": {
    "colab": {
     "base_uri": "https://localhost:8080/"
    },
    "id": "8peJcVLpCmAR",
    "outputId": "54a0f1ad-3dc9-40f0-f079-bfd1c7386b15"
   },
   "outputs": [
    {
     "name": "stdout",
     "output_type": "stream",
     "text": [
      "x = 1.39609, y = 46.57771\n",
      "  ∂f/∂x - JAX: 17693.90820, Analytical: 17693.90820\n",
      "  ∂f/∂y - JAX: 6411.33057, Analytical: 6411.33057\n",
      "x = 59.32015, y = 53.40275\n",
      "  ∂f/∂x - JAX: -135648.84375, Analytical: -135648.84375\n",
      "  ∂f/∂y - JAX: 6613.56641, Analytical: 6613.56641\n",
      "x = 99.47198, y = 15.99069\n",
      "  ∂f/∂x - JAX: 5183.78516, Analytical: 5183.78516\n",
      "  ∂f/∂y - JAX: 9225.86523, Analytical: 9225.86523\n"
     ]
    }
   ],
   "source": [
    "def func(x, y):\n",
    "  return x**2*y + y**3*jnp.sin(x)\n",
    "def dfdx_ana(x, y):\n",
    "  return 2*x*y + y**3*jnp.cos(x)\n",
    "def dfdy_ana(x, y):\n",
    "  return x**2 + 3*y**2*jnp.sin(x)\n",
    "\n",
    "dfdx = jax.grad(func, argnums = 0)\n",
    "dfdy = jax.grad(func, argnums = 1)\n",
    "\n",
    "ran_values = [(random.uniform(1, 100), random.uniform(1, 100)) for _ in range(random.randint(3,7))]\n",
    "\n",
    "for x, y in ran_values:\n",
    "    print(f\"x = {x:.5f}, y = {y:.5f}\")\n",
    "    print(f\"  ∂f/∂x - JAX: {dfdx(x, y):.5f}, Analytical: {dfdx_ana(x, y):.5f}\")\n",
    "    print(f\"  ∂f/∂y - JAX: {dfdy(x, y):.5f}, Analytical: {dfdy_ana(x, y):.5f}\")"
   ]
  },
  {
   "cell_type": "markdown",
   "metadata": {
    "id": "G-Grn-KdOEWg"
   },
   "source": [
    "***6. Use sympy to confirm that you obtain the same gradient analytically.***"
   ]
  },
  {
   "cell_type": "code",
   "execution_count": 9,
   "metadata": {
    "colab": {
     "base_uri": "https://localhost:8080/"
    },
    "id": "6pnHuDhVJ39i",
    "outputId": "03748b7b-efba-4fb9-8677-6906192fee64"
   },
   "outputs": [
    {
     "name": "stdout",
     "output_type": "stream",
     "text": [
      "∂f/∂x: 2*x*y + y**3*cos(x)\n",
      "∂f/∂y: x**2 + 3*y**2*sin(x)\n"
     ]
    }
   ],
   "source": [
    "x, y = sp.symbols('x y')\n",
    "f = x**2 * y + y**3 * sp.sin(x)\n",
    "\n",
    "df_dx = sp.diff(f, x)\n",
    "df_dy = sp.diff(f, y)\n",
    "\n",
    "print(\"∂f/∂x:\", df_dx)\n",
    "print(\"∂f/∂y:\", df_dy)"
   ]
  },
  {
   "cell_type": "markdown",
   "metadata": {
    "id": "WR_Jql6qOnXQ"
   },
   "source": [
    "These match with the previously analytically computed partial derivatives."
   ]
  },
  {
   "cell_type": "markdown",
   "metadata": {
    "id": "iv7YZhnFO3vE"
   },
   "source": [
    "***7. Create a Python nested dictionary to represent hierarchical information. We want to store record of students and their marks.***"
   ]
  },
  {
   "cell_type": "code",
   "execution_count": 10,
   "metadata": {
    "id": "fQGMFL9sOkC8"
   },
   "outputs": [],
   "source": [
    "student_data = {\n",
    "    2022 : {\n",
    "        \"Branch 1\" : {\n",
    "            1 : {\n",
    "                \"Name\" : 'N',\n",
    "                \"Marks\" : {\n",
    "                    \"Maths\" : 100,\n",
    "                    \"English\" : 70\n",
    "                }\n",
    "            }\n",
    "        },\n",
    "        \"Branch 2\" : {}\n",
    "    },\n",
    "    2023 : {\n",
    "        \"Branch 1\" : {},\n",
    "        \"Branch 2\" : {}\n",
    "    },\n",
    "    2024 : {\n",
    "        \"Branch 1\" : {},\n",
    "        \"Branch 2\" : {}\n",
    "    },\n",
    "    2025 : {\n",
    "        \"Branch 1\" : {},\n",
    "        \"Branch 2\" : {}\n",
    "    }\n",
    "}"
   ]
  },
  {
   "cell_type": "markdown",
   "metadata": {
    "id": "x-Pnw4H3RC5g"
   },
   "source": [
    "Further data can be added....."
   ]
  },
  {
   "cell_type": "markdown",
   "metadata": {
    "id": "OFpPbluQV_mW"
   },
   "source": [
    "***8. Store the same information using Python classes. We have an overall database which is a list of year objects. Each year contains a list of branches. Each branch contains a list of students. Each student has some properties like name, roll number and has marks in some subjects.***"
   ]
  },
  {
   "cell_type": "code",
   "execution_count": 11,
   "metadata": {
    "colab": {
     "base_uri": "https://localhost:8080/"
    },
    "id": "CKPn3pfvjxDD",
    "outputId": "99634423-ccbc-4a2f-8a21-1a96f737f69c"
   },
   "outputs": [
    {
     "name": "stdout",
     "output_type": "stream",
     "text": [
      "Year: 2022\n",
      "  Branch 1:\n",
      "    1 (N) - Marks: {'Maths': 100, 'English': 70}\n",
      "  Branch 2:\n",
      "    \n",
      "Year: 2023\n",
      "  Branch 1:\n",
      "    \n",
      "  Branch 2:\n",
      "    \n",
      "Year: 2024\n",
      "  Branch 1:\n",
      "    \n",
      "  Branch 2:\n",
      "    \n",
      "Year: 2025\n",
      "  Branch 1:\n",
      "    \n",
      "  Branch 2:\n",
      "    \n"
     ]
    }
   ],
   "source": [
    "class student:\n",
    "  def __init__(self, rno, name, marks):\n",
    "    self.rno = rno\n",
    "    self.name = name\n",
    "    self.marks = marks\n",
    "  def __str__(self):\n",
    "    return f\"{self.rno} ({self.name}) - Marks: {self.marks}\"\n",
    "\n",
    "class Branch:\n",
    "  def __init__(self, name):\n",
    "    self.name = name\n",
    "    self.students = []\n",
    "  def add_student(self, student):\n",
    "    self.students.append(student)\n",
    "  def __str__(self):\n",
    "    students_str = \"\\n    \".join(str(s) for s in self.students)\n",
    "    return f\"{self.name}:\\n    {students_str}\"\n",
    "\n",
    "class year:\n",
    "    def __init__(self, year):\n",
    "        self.year = year\n",
    "        self.branches = []\n",
    "    def add_branch(self, branch):\n",
    "        self.branches.append(branch)\n",
    "    def __str__(self):\n",
    "      branches_str = \"\\n  \".join(str(b) for b in self.branches)\n",
    "      return f\"Year: {self.year}\\n  {branches_str}\"\n",
    "\n",
    "class database:\n",
    "  def __init__(self):\n",
    "    self.years = []\n",
    "  def add_year(self, year):\n",
    "    self.years.append(year)\n",
    "  def __str__(self):\n",
    "    return \"\\n\".join(str(year) for year in self.years)\n",
    "\n",
    "student1 = student(1, 'N', {\"Maths\": 100, \"English\": 70})\n",
    "\n",
    "branch1 = Branch(\"Branch 1\")\n",
    "branch1.add_student(student1)\n",
    "branch2 = Branch(\"Branch 2\")\n",
    "branch3 = Branch(\"Branch 1\")\n",
    "\n",
    "year1 = year(2022)\n",
    "year1.add_branch(branch1)\n",
    "year1.add_branch(branch2)\n",
    "year2 = year(2023)\n",
    "year2.add_branch(branch3)\n",
    "year2.add_branch(branch2)\n",
    "year3 = year(2024)\n",
    "year3.add_branch(branch3)\n",
    "year3.add_branch(branch2)\n",
    "year4 = year(2025)\n",
    "year4.add_branch(branch3)\n",
    "year4.add_branch(branch2)\n",
    "\n",
    "db = database()\n",
    "db.add_year(year1)\n",
    "db.add_year(year2)\n",
    "db.add_year(year3)\n",
    "db.add_year(year4)\n",
    "print(db)"
   ]
  },
  {
   "cell_type": "markdown",
   "metadata": {
    "id": "NuV8EZWbYQuc"
   },
   "source": [
    "***9. Using matplotlib plot the following functions on the domain: x = 0.5 to 100.0 in steps of 0.5.***"
   ]
  },
  {
   "cell_type": "code",
   "execution_count": 12,
   "metadata": {
    "id": "5VflC0CXYyGU"
   },
   "outputs": [],
   "source": [
    "#Defining the domain\n",
    "x = np.linspace(0.5, 100.0, 200)"
   ]
  },
  {
   "cell_type": "markdown",
   "metadata": {
    "id": "p1uAlBGidD1-"
   },
   "source": [
    "***1)*** $$ y = x $$"
   ]
  },
  {
   "cell_type": "code",
   "execution_count": 13,
   "metadata": {
    "colab": {
     "base_uri": "https://localhost:8080/",
     "height": 487
    },
    "id": "8YkclzGTZkPq",
    "outputId": "1539e2de-1465-4658-beb4-1c8777aec7b3"
   },
   "outputs": [
    {
     "data": {
      "image/png": "[encoded data removed]",
      "text/plain": [
       "<Figure size 500x500 with 1 Axes>"
      ]
     },
     "metadata": {},
     "output_type": "display_data"
    }
   ],
   "source": [
    "y = x\n",
    "plt.figure(figsize=(5, 5))\n",
    "plt.plot(x, y, label='y = x', color='green')\n",
    "plt.xlabel(\"x\")\n",
    "plt.ylabel(\"y\")\n",
    "plt.title(\"Plot of y = x\")\n",
    "plt.grid(True)\n",
    "plt.show()"
   ]
  },
  {
   "cell_type": "markdown",
   "metadata": {
    "id": "PT78Eb4edTey"
   },
   "source": [
    "***2)***$$ y = x ^ 2 $$"
   ]
  },
  {
   "cell_type": "code",
   "execution_count": 14,
   "metadata": {
    "colab": {
     "base_uri": "https://localhost:8080/",
     "height": 487
    },
    "id": "vzNrm5nEaZrL",
    "outputId": "bbf6318f-b4f5-4e9c-88ac-3ea002bd495a"
   },
   "outputs": [
    {
     "data": {
      "image/png": "[encoded data removed]",
      "text/plain": [
       "<Figure size 700x500 with 1 Axes>"
      ]
     },
     "metadata": {},
     "output_type": "display_data"
    }
   ],
   "source": [
    "y = x**2\n",
    "plt.figure(figsize=(7, 5))\n",
    "plt.plot(x, y, label='y = x', color='red')\n",
    "plt.xlabel(\"x\")\n",
    "plt.ylabel(\"y\")\n",
    "plt.title(\"Plot of y = x^2\")\n",
    "plt.grid(True)\n",
    "plt.show()"
   ]
  },
  {
   "cell_type": "markdown",
   "metadata": {
    "id": "bJY51nJvdkqF"
   },
   "source": [
    "***3)***$$ y = \\frac{x^3}{100} $$"
   ]
  },
  {
   "cell_type": "code",
   "execution_count": 15,
   "metadata": {
    "colab": {
     "base_uri": "https://localhost:8080/",
     "height": 487
    },
    "id": "Lcn5jVt3abse",
    "outputId": "aa77d2cf-c48d-4f90-9c94-0abf48943bf2"
   },
   "outputs": [
    {
     "data": {
      "image/png": "[encoded data removed]",
      "text/plain": [
       "<Figure size 700x500 with 1 Axes>"
      ]
     },
     "metadata": {},
     "output_type": "display_data"
    }
   ],
   "source": [
    "y = x**3/100\n",
    "plt.figure(figsize=(7, 5))\n",
    "plt.plot(x, y, label='y = x', color='blue')\n",
    "plt.xlabel(\"x\")\n",
    "plt.ylabel(\"y\")\n",
    "plt.title(\"Plot of y = x^3 / 100\")\n",
    "plt.grid(True)\n",
    "plt.show()"
   ]
  },
  {
   "cell_type": "markdown",
   "metadata": {
    "id": "pMJYuVtUdxdM"
   },
   "source": [
    "***4)***$$ y = sin(x) $$"
   ]
  },
  {
   "cell_type": "code",
   "execution_count": 16,
   "metadata": {
    "colab": {
     "base_uri": "https://localhost:8080/",
     "height": 333
    },
    "id": "A4mOq5CDaelp",
    "outputId": "94516eae-8424-49bb-f9fd-07607b952fcf"
   },
   "outputs": [
    {
     "data": {
      "image/png": "[encoded data removed]",
      "text/plain": [
       "<Figure size 1500x300 with 1 Axes>"
      ]
     },
     "metadata": {},
     "output_type": "display_data"
    }
   ],
   "source": [
    "y = np.sin(x)\n",
    "plt.figure(figsize=(15, 3))\n",
    "plt.plot(x, y, label='y = x', color='orange')\n",
    "plt.xlabel(\"x\")\n",
    "plt.ylabel(\"y\")\n",
    "plt.title(\"Plot of y = sin(x)\")\n",
    "plt.grid(True)\n",
    "plt.show()"
   ]
  },
  {
   "cell_type": "markdown",
   "metadata": {
    "id": "4LX8RaCoedEs"
   },
   "source": [
    "***5)***$$ y = \\frac{sin(x)}{x} $$"
   ]
  },
  {
   "cell_type": "code",
   "execution_count": 17,
   "metadata": {
    "colab": {
     "base_uri": "https://localhost:8080/",
     "height": 487
    },
    "id": "tfeGUBXjajB5",
    "outputId": "4c3a83f5-e32d-4dfa-ddc2-e1a6cb56483b"
   },
   "outputs": [
    {
     "data": {
      "image/png": "[encoded data removed]",
      "text/plain": [
       "<Figure size 1500x500 with 1 Axes>"
      ]
     },
     "metadata": {},
     "output_type": "display_data"
    }
   ],
   "source": [
    "y = np.sin(x)/x\n",
    "plt.figure(figsize=(15, 5))\n",
    "plt.plot(x, y, label='y = x', color='violet')\n",
    "plt.xlabel(\"x\")\n",
    "plt.ylabel(\"y\")\n",
    "plt.title(\"Plot of y = sinx/x\")\n",
    "plt.grid(True)\n",
    "plt.show()"
   ]
  },
  {
   "cell_type": "markdown",
   "metadata": {
    "id": "LuOKR591eznl"
   },
   "source": [
    "***6)***$$y = log (x)$$"
   ]
  },
  {
   "cell_type": "code",
   "execution_count": 18,
   "metadata": {
    "colab": {
     "base_uri": "https://localhost:8080/",
     "height": 487
    },
    "id": "ymYfMZ-ha3Bk",
    "outputId": "1d032499-084e-4b4f-be7d-e547d683e5fb"
   },
   "outputs": [
    {
     "data": {
      "image/png": "[encoded data removed]",
      "text/plain": [
       "<Figure size 1200x500 with 1 Axes>"
      ]
     },
     "metadata": {},
     "output_type": "display_data"
    }
   ],
   "source": [
    "y = np.log(x)\n",
    "plt.figure(figsize=(12, 5))\n",
    "plt.plot(x, y, label='y = x', color='yellow')\n",
    "plt.xlabel(\"x\")\n",
    "plt.ylabel(\"y\")\n",
    "plt.title(\"Plot of y = log(x)\")\n",
    "plt.grid(True)\n",
    "plt.show()"
   ]
  },
  {
   "cell_type": "markdown",
   "metadata": {
    "id": "Qck-hXcjfB_r"
   },
   "source": [
    "***7)***$$y = e^x$$"
   ]
  },
  {
   "cell_type": "code",
   "execution_count": 19,
   "metadata": {
    "colab": {
     "base_uri": "https://localhost:8080/",
     "height": 487
    },
    "id": "DkoyB14Ya7PZ",
    "outputId": "5eaf4292-a34f-4ff0-a5c7-3f2f42d2d7b1"
   },
   "outputs": [
    {
     "data": {
      "image/png": "[encoded data removed]",
      "text/plain": [
       "<Figure size 1000x500 with 1 Axes>"
      ]
     },
     "metadata": {},
     "output_type": "display_data"
    }
   ],
   "source": [
    "y = np.exp(x)\n",
    "plt.figure(figsize=(10, 5))\n",
    "plt.plot(x, y, label='y = x', color='magenta')\n",
    "plt.xlabel(\"x\")\n",
    "plt.ylabel(\"y\")\n",
    "plt.title(\"Plot of y = e^x\")\n",
    "plt.grid(True)\n",
    "plt.show()"
   ]
  },
  {
   "cell_type": "markdown",
   "metadata": {
    "id": "7aLGdnbiYRPa"
   },
   "source": [
    "***10. Using numpy generate a matrix of size 20X5 containing random numbers drawn uniformly from the range of 1 to 2. Using Pandas create a dataframe out of this matrix. Name the columns of the dataframe as “a”, “b”, “c”, “d”, “e”. Find the column with the highest standard deviation. Find the row with the lowest mean.***"
   ]
  },
  {
   "cell_type": "code",
   "execution_count": 20,
   "metadata": {
    "colab": {
     "base_uri": "https://localhost:8080/"
    },
    "id": "V3Ww05C83RWy",
    "outputId": "f21004ef-6621-47cd-8a1c-c36465f4d9ff"
   },
   "outputs": [
    {
     "name": "stdout",
     "output_type": "stream",
     "text": [
      "Column with highest standard deviation: e\n",
      "Index of row with lowest mean: 17\n"
     ]
    }
   ],
   "source": [
    "mat = np.random.uniform(1, 2, (20, 5))\n",
    "df = pd.DataFrame(mat, columns = [\"a\", \"b\", \"c\", \"d\", \"e\"])\n",
    "\n",
    "st_devs = df.std()\n",
    "print(f\"Column with highest standard deviation: {st_devs.idxmax()}\")\n",
    "\n",
    "means = df.mean(axis = 1)\n",
    "print(f\"Index of row with lowest mean: {means.idxmin()}\")"
   ]
  },
  {
   "cell_type": "markdown",
   "metadata": {
    "id": "RN3NYZSpYRsS"
   },
   "source": [
    "***11. Add a new column to the dataframe called “f” which is the sum of the columns “a”, “b”, “c”, “d”, “e”. Create another column called “g”. The value in the column “g” should be “LT8” if the value in the column “f” is less than 8 and “GT8” otherwise. Find the number of rows in the dataframe where the value in the column “g” is “LT8”. Find the standard deviation of the column “f” for the rows where the value in the column “g” is “LT8” and “GT8” respectively.***"
   ]
  },
  {
   "cell_type": "code",
   "execution_count": 21,
   "metadata": {
    "colab": {
     "base_uri": "https://localhost:8080/",
     "height": 676
    },
    "id": "zGmryqnU4qP7",
    "outputId": "44e937cf-059e-4e16-bc44-5517bcd850ef"
   },
   "outputs": [
    {
     "data": {
      "application/vnd.google.colaboratory.intrinsic+json": {
       "summary": "{\n  \"name\": \"df\",\n  \"rows\": 20,\n  \"fields\": [\n    {\n      \"column\": \"a\",\n      \"properties\": {\n        \"dtype\": \"number\",\n        \"std\": 0.28285665188694176,\n        \"min\": 1.0089031198834209,\n        \"max\": 1.993043048901229,\n        \"num_unique_values\": 20,\n        \"samples\": [\n          1.6037499913759388,\n          1.063312016428167,\n          1.0089031198834209\n        ],\n        \"semantic_type\": \"\",\n        \"description\": \"\"\n      }\n    },\n    {\n      \"column\": \"b\",\n      \"properties\": {\n        \"dtype\": \"number\",\n        \"std\": 0.28730684091255243,\n        \"min\": 1.0695384835764146,\n        \"max\": 1.9413491501483489,\n        \"num_unique_values\": 20,\n        \"samples\": [\n          1.7670861261175905,\n          1.1062405279092886,\n          1.502495008517326\n        ],\n        \"semantic_type\": \"\",\n        \"description\": \"\"\n      }\n    },\n    {\n      \"column\": \"c\",\n      \"properties\": {\n        \"dtype\": \"number\",\n        \"std\": 0.277716708718958,\n        \"min\": 1.0791020579194042,\n        \"max\": 1.927215732333084,\n        \"num_unique_values\": 20,\n        \"samples\": [\n          1.4387535304798327,\n          1.2034888986384158,\n          1.6954443805595933\n        ],\n        \"semantic_type\": \"\",\n        \"description\": \"\"\n      }\n    },\n    {\n      \"column\": \"d\",\n      \"properties\": {\n        \"dtype\": \"number\",\n        \"std\": 0.26540756231345736,\n        \"min\": 1.1163857886393598,\n        \"max\": 1.93100149340398,\n        \"num_unique_values\": 20,\n        \"samples\": [\n          1.728564785597498,\n          1.2514401013031837,\n          1.2285594450852573\n        ],\n        \"semantic_type\": \"\",\n        \"description\": \"\"\n      }\n    },\n    {\n      \"column\": \"e\",\n      \"properties\": {\n        \"dtype\": \"number\",\n        \"std\": 0.28940666535247994,\n        \"min\": 1.0379720102295344,\n        \"max\": 1.954739775998171,\n        \"num_unique_values\": 20,\n        \"samples\": [\n          1.1242652834963556,\n          1.954739775998171,\n          1.4268335486763886\n        ],\n        \"semantic_type\": \"\",\n        \"description\": \"\"\n      }\n    },\n    {\n      \"column\": \"f\",\n      \"properties\": {\n        \"dtype\": \"number\",\n        \"std\": 0.591569732989421,\n        \"min\": 6.579221320277226,\n        \"max\": 8.50150001741897,\n        \"num_unique_values\": 20,\n        \"samples\": [\n          7.662419717067215,\n          6.579221320277226,\n          6.862235502721987\n        ],\n        \"semantic_type\": \"\",\n        \"description\": \"\"\n      }\n    },\n    {\n      \"column\": \"g\",\n      \"properties\": {\n        \"dtype\": \"category\",\n        \"num_unique_values\": 2,\n        \"samples\": [\n          \"GT8\",\n          \"LT8\"\n        ],\n        \"semantic_type\": \"\",\n        \"description\": \"\"\n      }\n    }\n  ]\n}",
       "type": "dataframe",
       "variable_name": "df"
      },
      "text/html": [
       "\n",
       "  <div id=\"df-688f76d1-a6af-4fd4-8f0e-724f50d99812\" class=\"colab-df-container\">\n",
       "    <div>\n",
       "<style scoped>\n",
       "    .dataframe tbody tr th:only-of-type {\n",
       "        vertical-align: middle;\n",
       "    }\n",
       "\n",
       "    .dataframe tbody tr th {\n",
       "        vertical-align: top;\n",
       "    }\n",
       "\n",
       "    .dataframe thead th {\n",
       "        text-align: right;\n",
       "    }\n",
       "</style>\n",
       "<table border=\"1\" class=\"dataframe\">\n",
       "  <thead>\n",
       "    <tr style=\"text-align: right;\">\n",
       "      <th></th>\n",
       "      <th>a</th>\n",
       "      <th>b</th>\n",
       "      <th>c</th>\n",
       "      <th>d</th>\n",
       "      <th>e</th>\n",
       "      <th>f</th>\n",
       "      <th>g</th>\n",
       "    </tr>\n",
       "  </thead>\n",
       "  <tbody>\n",
       "    <tr>\n",
       "      <th>0</th>\n",
       "      <td>1.603750</td>\n",
       "      <td>1.767086</td>\n",
       "      <td>1.438754</td>\n",
       "      <td>1.728565</td>\n",
       "      <td>1.124265</td>\n",
       "      <td>7.662420</td>\n",
       "      <td>LT8</td>\n",
       "    </tr>\n",
       "    <tr>\n",
       "      <th>1</th>\n",
       "      <td>1.329678</td>\n",
       "      <td>1.125221</td>\n",
       "      <td>1.794227</td>\n",
       "      <td>1.678510</td>\n",
       "      <td>1.520312</td>\n",
       "      <td>7.447948</td>\n",
       "      <td>LT8</td>\n",
       "    </tr>\n",
       "    <tr>\n",
       "      <th>2</th>\n",
       "      <td>1.528043</td>\n",
       "      <td>1.753784</td>\n",
       "      <td>1.866661</td>\n",
       "      <td>1.269634</td>\n",
       "      <td>1.152838</td>\n",
       "      <td>7.570959</td>\n",
       "      <td>LT8</td>\n",
       "    </tr>\n",
       "    <tr>\n",
       "      <th>3</th>\n",
       "      <td>1.223121</td>\n",
       "      <td>1.069538</td>\n",
       "      <td>1.574408</td>\n",
       "      <td>1.846090</td>\n",
       "      <td>1.338784</td>\n",
       "      <td>7.051942</td>\n",
       "      <td>LT8</td>\n",
       "    </tr>\n",
       "    <tr>\n",
       "      <th>4</th>\n",
       "      <td>1.313349</td>\n",
       "      <td>1.790898</td>\n",
       "      <td>1.267612</td>\n",
       "      <td>1.172760</td>\n",
       "      <td>1.696977</td>\n",
       "      <td>7.241596</td>\n",
       "      <td>LT8</td>\n",
       "    </tr>\n",
       "    <tr>\n",
       "      <th>5</th>\n",
       "      <td>1.586247</td>\n",
       "      <td>1.415551</td>\n",
       "      <td>1.389917</td>\n",
       "      <td>1.637151</td>\n",
       "      <td>1.570919</td>\n",
       "      <td>7.599787</td>\n",
       "      <td>LT8</td>\n",
       "    </tr>\n",
       "    <tr>\n",
       "      <th>6</th>\n",
       "      <td>1.634805</td>\n",
       "      <td>1.575020</td>\n",
       "      <td>1.772067</td>\n",
       "      <td>1.477146</td>\n",
       "      <td>1.730121</td>\n",
       "      <td>8.189160</td>\n",
       "      <td>GT8</td>\n",
       "    </tr>\n",
       "    <tr>\n",
       "      <th>7</th>\n",
       "      <td>1.162331</td>\n",
       "      <td>1.941349</td>\n",
       "      <td>1.090461</td>\n",
       "      <td>1.536349</td>\n",
       "      <td>1.217976</td>\n",
       "      <td>6.948466</td>\n",
       "      <td>LT8</td>\n",
       "    </tr>\n",
       "    <tr>\n",
       "      <th>8</th>\n",
       "      <td>1.056660</td>\n",
       "      <td>1.283918</td>\n",
       "      <td>1.778734</td>\n",
       "      <td>1.689416</td>\n",
       "      <td>1.787262</td>\n",
       "      <td>7.595989</td>\n",
       "      <td>LT8</td>\n",
       "    </tr>\n",
       "    <tr>\n",
       "      <th>9</th>\n",
       "      <td>1.209946</td>\n",
       "      <td>1.673551</td>\n",
       "      <td>1.881627</td>\n",
       "      <td>1.844239</td>\n",
       "      <td>1.360091</td>\n",
       "      <td>7.969454</td>\n",
       "      <td>LT8</td>\n",
       "    </tr>\n",
       "    <tr>\n",
       "      <th>10</th>\n",
       "      <td>1.650805</td>\n",
       "      <td>1.799422</td>\n",
       "      <td>1.203606</td>\n",
       "      <td>1.730952</td>\n",
       "      <td>1.897813</td>\n",
       "      <td>8.282597</td>\n",
       "      <td>GT8</td>\n",
       "    </tr>\n",
       "    <tr>\n",
       "      <th>11</th>\n",
       "      <td>1.993043</td>\n",
       "      <td>1.835837</td>\n",
       "      <td>1.664824</td>\n",
       "      <td>1.695917</td>\n",
       "      <td>1.311879</td>\n",
       "      <td>8.501500</td>\n",
       "      <td>GT8</td>\n",
       "    </tr>\n",
       "    <tr>\n",
       "      <th>12</th>\n",
       "      <td>1.206406</td>\n",
       "      <td>1.294224</td>\n",
       "      <td>1.587784</td>\n",
       "      <td>1.161165</td>\n",
       "      <td>1.429872</td>\n",
       "      <td>6.679451</td>\n",
       "      <td>LT8</td>\n",
       "    </tr>\n",
       "    <tr>\n",
       "      <th>13</th>\n",
       "      <td>1.357599</td>\n",
       "      <td>1.800869</td>\n",
       "      <td>1.927216</td>\n",
       "      <td>1.745384</td>\n",
       "      <td>1.093618</td>\n",
       "      <td>7.924685</td>\n",
       "      <td>LT8</td>\n",
       "    </tr>\n",
       "    <tr>\n",
       "      <th>14</th>\n",
       "      <td>1.070122</td>\n",
       "      <td>1.849027</td>\n",
       "      <td>1.079102</td>\n",
       "      <td>1.828005</td>\n",
       "      <td>1.037972</td>\n",
       "      <td>6.864228</td>\n",
       "      <td>LT8</td>\n",
       "    </tr>\n",
       "    <tr>\n",
       "      <th>15</th>\n",
       "      <td>1.008903</td>\n",
       "      <td>1.502495</td>\n",
       "      <td>1.695444</td>\n",
       "      <td>1.228559</td>\n",
       "      <td>1.426834</td>\n",
       "      <td>6.862236</td>\n",
       "      <td>LT8</td>\n",
       "    </tr>\n",
       "    <tr>\n",
       "      <th>16</th>\n",
       "      <td>1.938636</td>\n",
       "      <td>1.733736</td>\n",
       "      <td>1.301402</td>\n",
       "      <td>1.423654</td>\n",
       "      <td>1.740974</td>\n",
       "      <td>8.138401</td>\n",
       "      <td>GT8</td>\n",
       "    </tr>\n",
       "    <tr>\n",
       "      <th>17</th>\n",
       "      <td>1.063312</td>\n",
       "      <td>1.106241</td>\n",
       "      <td>1.203489</td>\n",
       "      <td>1.251440</td>\n",
       "      <td>1.954740</td>\n",
       "      <td>6.579221</td>\n",
       "      <td>LT8</td>\n",
       "    </tr>\n",
       "    <tr>\n",
       "      <th>18</th>\n",
       "      <td>1.433793</td>\n",
       "      <td>1.938708</td>\n",
       "      <td>1.435539</td>\n",
       "      <td>1.931001</td>\n",
       "      <td>1.536094</td>\n",
       "      <td>8.275135</td>\n",
       "      <td>GT8</td>\n",
       "    </tr>\n",
       "    <tr>\n",
       "      <th>19</th>\n",
       "      <td>1.361252</td>\n",
       "      <td>1.384743</td>\n",
       "      <td>1.267133</td>\n",
       "      <td>1.116386</td>\n",
       "      <td>1.921044</td>\n",
       "      <td>7.050557</td>\n",
       "      <td>LT8</td>\n",
       "    </tr>\n",
       "  </tbody>\n",
       "</table>\n",
       "</div>\n",
       "    <div class=\"colab-df-buttons\">\n",
       "\n",
       "  <div class=\"colab-df-container\">\n",
       "    <button class=\"colab-df-convert\" onclick=\"convertToInteractive('df-688f76d1-a6af-4fd4-8f0e-724f50d99812')\"\n",
       "            title=\"Convert this dataframe to an interactive table.\"\n",
       "            style=\"display:none;\">\n",
       "\n",
       "  <svg xmlns=\"http://www.w3.org/2000/svg\" height=\"24px\" viewBox=\"0 -960 960 960\">\n",
       "    <path d=\"M120-120v-720h720v720H120Zm60-500h600v-160H180v160Zm220 220h160v-160H400v160Zm0 220h160v-160H400v160ZM180-400h160v-160H180v160Zm440 0h160v-160H620v160ZM180-180h160v-160H180v160Zm440 0h160v-160H620v160Z\"/>\n",
       "  </svg>\n",
       "    </button>\n",
       "\n",
       "  <style>\n",
       "    .colab-df-container {\n",
       "      display:flex;\n",
       "      gap: 12px;\n",
       "    }\n",
       "\n",
       "    .colab-df-convert {\n",
       "      background-color: #E8F0FE;\n",
       "      border: none;\n",
       "      border-radius: 50%;\n",
       "      cursor: pointer;\n",
       "      display: none;\n",
       "      fill: #1967D2;\n",
       "      height: 32px;\n",
       "      padding: 0 0 0 0;\n",
       "      width: 32px;\n",
       "    }\n",
       "\n",
       "    .colab-df-convert:hover {\n",
       "      background-color: #E2EBFA;\n",
       "      box-shadow: 0px 1px 2px rgba(60, 64, 67, 0.3), 0px 1px 3px 1px rgba(60, 64, 67, 0.15);\n",
       "      fill: #174EA6;\n",
       "    }\n",
       "\n",
       "    .colab-df-buttons div {\n",
       "      margin-bottom: 4px;\n",
       "    }\n",
       "\n",
       "    [theme=dark] .colab-df-convert {\n",
       "      background-color: #3B4455;\n",
       "      fill: #D2E3FC;\n",
       "    }\n",
       "\n",
       "    [theme=dark] .colab-df-convert:hover {\n",
       "      background-color: #434B5C;\n",
       "      box-shadow: 0px 1px 3px 1px rgba(0, 0, 0, 0.15);\n",
       "      filter: drop-shadow(0px 1px 2px rgba(0, 0, 0, 0.3));\n",
       "      fill: #FFFFFF;\n",
       "    }\n",
       "  </style>\n",
       "\n",
       "    <script>\n",
       "      const buttonEl =\n",
       "        document.querySelector('#df-688f76d1-a6af-4fd4-8f0e-724f50d99812 button.colab-df-convert');\n",
       "      buttonEl.style.display =\n",
       "        google.colab.kernel.accessAllowed ? 'block' : 'none';\n",
       "\n",
       "      async function convertToInteractive(key) {\n",
       "        const element = document.querySelector('#df-688f76d1-a6af-4fd4-8f0e-724f50d99812');\n",
       "        const dataTable =\n",
       "          await google.colab.kernel.invokeFunction('convertToInteractive',\n",
       "                                                    [key], {});\n",
       "        if (!dataTable) return;\n",
       "\n",
       "        const docLinkHtml = 'Like what you see? Visit the ' +\n",
       "          '<a target=\"_blank\" href=https://colab.research.google.com/notebooks/data_table.ipynb>data table notebook</a>'\n",
       "          + ' to learn more about interactive tables.';\n",
       "        element.innerHTML = '';\n",
       "        dataTable['output_type'] = 'display_data';\n",
       "        await google.colab.output.renderOutput(dataTable, element);\n",
       "        const docLink = document.createElement('div');\n",
       "        docLink.innerHTML = docLinkHtml;\n",
       "        element.appendChild(docLink);\n",
       "      }\n",
       "    </script>\n",
       "  </div>\n",
       "\n",
       "\n",
       "    <div id=\"df-7f9d362f-b18e-4656-a4aa-a97372248cb7\">\n",
       "      <button class=\"colab-df-quickchart\" onclick=\"quickchart('df-7f9d362f-b18e-4656-a4aa-a97372248cb7')\"\n",
       "                title=\"Suggest charts\"\n",
       "                style=\"display:none;\">\n",
       "\n",
       "<svg xmlns=\"http://www.w3.org/2000/svg\" height=\"24px\"viewBox=\"0 0 24 24\"\n",
       "     width=\"24px\">\n",
       "    <g>\n",
       "        <path d=\"M19 3H5c-1.1 0-2 .9-2 2v14c0 1.1.9 2 2 2h14c1.1 0 2-.9 2-2V5c0-1.1-.9-2-2-2zM9 17H7v-7h2v7zm4 0h-2V7h2v10zm4 0h-2v-4h2v4z\"/>\n",
       "    </g>\n",
       "</svg>\n",
       "      </button>\n",
       "\n",
       "<style>\n",
       "  .colab-df-quickchart {\n",
       "      --bg-color: #E8F0FE;\n",
       "      --fill-color: #1967D2;\n",
       "      --hover-bg-color: #E2EBFA;\n",
       "      --hover-fill-color: #174EA6;\n",
       "      --disabled-fill-color: #AAA;\n",
       "      --disabled-bg-color: #DDD;\n",
       "  }\n",
       "\n",
       "  [theme=dark] .colab-df-quickchart {\n",
       "      --bg-color: #3B4455;\n",
       "      --fill-color: #D2E3FC;\n",
       "      --hover-bg-color: #434B5C;\n",
       "      --hover-fill-color: #FFFFFF;\n",
       "      --disabled-bg-color: #3B4455;\n",
       "      --disabled-fill-color: #666;\n",
       "  }\n",
       "\n",
       "  .colab-df-quickchart {\n",
       "    background-color: var(--bg-color);\n",
       "    border: none;\n",
       "    border-radius: 50%;\n",
       "    cursor: pointer;\n",
       "    display: none;\n",
       "    fill: var(--fill-color);\n",
       "    height: 32px;\n",
       "    padding: 0;\n",
       "    width: 32px;\n",
       "  }\n",
       "\n",
       "  .colab-df-quickchart:hover {\n",
       "    background-color: var(--hover-bg-color);\n",
       "    box-shadow: 0 1px 2px rgba(60, 64, 67, 0.3), 0 1px 3px 1px rgba(60, 64, 67, 0.15);\n",
       "    fill: var(--button-hover-fill-color);\n",
       "  }\n",
       "\n",
       "  .colab-df-quickchart-complete:disabled,\n",
       "  .colab-df-quickchart-complete:disabled:hover {\n",
       "    background-color: var(--disabled-bg-color);\n",
       "    fill: var(--disabled-fill-color);\n",
       "    box-shadow: none;\n",
       "  }\n",
       "\n",
       "  .colab-df-spinner {\n",
       "    border: 2px solid var(--fill-color);\n",
       "    border-color: transparent;\n",
       "    border-bottom-color: var(--fill-color);\n",
       "    animation:\n",
       "      spin 1s steps(1) infinite;\n",
       "  }\n",
       "\n",
       "  @keyframes spin {\n",
       "    0% {\n",
       "      border-color: transparent;\n",
       "      border-bottom-color: var(--fill-color);\n",
       "      border-left-color: var(--fill-color);\n",
       "    }\n",
       "    20% {\n",
       "      border-color: transparent;\n",
       "      border-left-color: var(--fill-color);\n",
       "      border-top-color: var(--fill-color);\n",
       "    }\n",
       "    30% {\n",
       "      border-color: transparent;\n",
       "      border-left-color: var(--fill-color);\n",
       "      border-top-color: var(--fill-color);\n",
       "      border-right-color: var(--fill-color);\n",
       "    }\n",
       "    40% {\n",
       "      border-color: transparent;\n",
       "      border-right-color: var(--fill-color);\n",
       "      border-top-color: var(--fill-color);\n",
       "    }\n",
       "    60% {\n",
       "      border-color: transparent;\n",
       "      border-right-color: var(--fill-color);\n",
       "    }\n",
       "    80% {\n",
       "      border-color: transparent;\n",
       "      border-right-color: var(--fill-color);\n",
       "      border-bottom-color: var(--fill-color);\n",
       "    }\n",
       "    90% {\n",
       "      border-color: transparent;\n",
       "      border-bottom-color: var(--fill-color);\n",
       "    }\n",
       "  }\n",
       "</style>\n",
       "\n",
       "      <script>\n",
       "        async function quickchart(key) {\n",
       "          const quickchartButtonEl =\n",
       "            document.querySelector('#' + key + ' button');\n",
       "          quickchartButtonEl.disabled = true;  // To prevent multiple clicks.\n",
       "          quickchartButtonEl.classList.add('colab-df-spinner');\n",
       "          try {\n",
       "            const charts = await google.colab.kernel.invokeFunction(\n",
       "                'suggestCharts', [key], {});\n",
       "          } catch (error) {\n",
       "            console.error('Error during call to suggestCharts:', error);\n",
       "          }\n",
       "          quickchartButtonEl.classList.remove('colab-df-spinner');\n",
       "          quickchartButtonEl.classList.add('colab-df-quickchart-complete');\n",
       "        }\n",
       "        (() => {\n",
       "          let quickchartButtonEl =\n",
       "            document.querySelector('#df-7f9d362f-b18e-4656-a4aa-a97372248cb7 button');\n",
       "          quickchartButtonEl.style.display =\n",
       "            google.colab.kernel.accessAllowed ? 'block' : 'none';\n",
       "        })();\n",
       "      </script>\n",
       "    </div>\n",
       "\n",
       "  <div id=\"id_40abb848-1875-41e6-a747-24980f95d692\">\n",
       "    <style>\n",
       "      .colab-df-generate {\n",
       "        background-color: #E8F0FE;\n",
       "        border: none;\n",
       "        border-radius: 50%;\n",
       "        cursor: pointer;\n",
       "        display: none;\n",
       "        fill: #1967D2;\n",
       "        height: 32px;\n",
       "        padding: 0 0 0 0;\n",
       "        width: 32px;\n",
       "      }\n",
       "\n",
       "      .colab-df-generate:hover {\n",
       "        background-color: #E2EBFA;\n",
       "        box-shadow: 0px 1px 2px rgba(60, 64, 67, 0.3), 0px 1px 3px 1px rgba(60, 64, 67, 0.15);\n",
       "        fill: #174EA6;\n",
       "      }\n",
       "\n",
       "      [theme=dark] .colab-df-generate {\n",
       "        background-color: #3B4455;\n",
       "        fill: #D2E3FC;\n",
       "      }\n",
       "\n",
       "      [theme=dark] .colab-df-generate:hover {\n",
       "        background-color: #434B5C;\n",
       "        box-shadow: 0px 1px 3px 1px rgba(0, 0, 0, 0.15);\n",
       "        filter: drop-shadow(0px 1px 2px rgba(0, 0, 0, 0.3));\n",
       "        fill: #FFFFFF;\n",
       "      }\n",
       "    </style>\n",
       "    <button class=\"colab-df-generate\" onclick=\"generateWithVariable('df')\"\n",
       "            title=\"Generate code using this dataframe.\"\n",
       "            style=\"display:none;\">\n",
       "\n",
       "  <svg xmlns=\"http://www.w3.org/2000/svg\" height=\"24px\"viewBox=\"0 0 24 24\"\n",
       "       width=\"24px\">\n",
       "    <path d=\"M7,19H8.4L18.45,9,17,7.55,7,17.6ZM5,21V16.75L18.45,3.32a2,2,0,0,1,2.83,0l1.4,1.43a1.91,1.91,0,0,1,.58,1.4,1.91,1.91,0,0,1-.58,1.4L9.25,21ZM18.45,9,17,7.55Zm-12,3A5.31,5.31,0,0,0,4.9,8.1,5.31,5.31,0,0,0,1,6.5,5.31,5.31,0,0,0,4.9,4.9,5.31,5.31,0,0,0,6.5,1,5.31,5.31,0,0,0,8.1,4.9,5.31,5.31,0,0,0,12,6.5,5.46,5.46,0,0,0,6.5,12Z\"/>\n",
       "  </svg>\n",
       "    </button>\n",
       "    <script>\n",
       "      (() => {\n",
       "      const buttonEl =\n",
       "        document.querySelector('#id_40abb848-1875-41e6-a747-24980f95d692 button.colab-df-generate');\n",
       "      buttonEl.style.display =\n",
       "        google.colab.kernel.accessAllowed ? 'block' : 'none';\n",
       "\n",
       "      buttonEl.onclick = () => {\n",
       "        google.colab.notebook.generateWithVariable('df');\n",
       "      }\n",
       "      })();\n",
       "    </script>\n",
       "  </div>\n",
       "\n",
       "    </div>\n",
       "  </div>\n"
      ],
      "text/plain": [
       "           a         b         c         d         e         f    g\n",
       "0   1.603750  1.767086  1.438754  1.728565  1.124265  7.662420  LT8\n",
       "1   1.329678  1.125221  1.794227  1.678510  1.520312  7.447948  LT8\n",
       "2   1.528043  1.753784  1.866661  1.269634  1.152838  7.570959  LT8\n",
       "3   1.223121  1.069538  1.574408  1.846090  1.338784  7.051942  LT8\n",
       "4   1.313349  1.790898  1.267612  1.172760  1.696977  7.241596  LT8\n",
       "5   1.586247  1.415551  1.389917  1.637151  1.570919  7.599787  LT8\n",
       "6   1.634805  1.575020  1.772067  1.477146  1.730121  8.189160  GT8\n",
       "7   1.162331  1.941349  1.090461  1.536349  1.217976  6.948466  LT8\n",
       "8   1.056660  1.283918  1.778734  1.689416  1.787262  7.595989  LT8\n",
       "9   1.209946  1.673551  1.881627  1.844239  1.360091  7.969454  LT8\n",
       "10  1.650805  1.799422  1.203606  1.730952  1.897813  8.282597  GT8\n",
       "11  1.993043  1.835837  1.664824  1.695917  1.311879  8.501500  GT8\n",
       "12  1.206406  1.294224  1.587784  1.161165  1.429872  6.679451  LT8\n",
       "13  1.357599  1.800869  1.927216  1.745384  1.093618  7.924685  LT8\n",
       "14  1.070122  1.849027  1.079102  1.828005  1.037972  6.864228  LT8\n",
       "15  1.008903  1.502495  1.695444  1.228559  1.426834  6.862236  LT8\n",
       "16  1.938636  1.733736  1.301402  1.423654  1.740974  8.138401  GT8\n",
       "17  1.063312  1.106241  1.203489  1.251440  1.954740  6.579221  LT8\n",
       "18  1.433793  1.938708  1.435539  1.931001  1.536094  8.275135  GT8\n",
       "19  1.361252  1.384743  1.267133  1.116386  1.921044  7.050557  LT8"
      ]
     },
     "execution_count": 21,
     "metadata": {},
     "output_type": "execute_result"
    }
   ],
   "source": [
    "df[\"f\"] = df[\"a\"] + df[\"b\"] + df[\"c\"] + df[\"d\"] + df[\"e\"]\n",
    "df[\"g\"] = df[\"f\"].apply(lambda x: \"LT8\" if x < 8 else \"GT8\")\n",
    "df"
   ]
  },
  {
   "cell_type": "code",
   "execution_count": 22,
   "metadata": {
    "colab": {
     "base_uri": "https://localhost:8080/"
    },
    "id": "rP0ta4iS6aHG",
    "outputId": "f89151c5-f105-40a8-c9ee-3a2907ee2e96"
   },
   "outputs": [
    {
     "name": "stdout",
     "output_type": "stream",
     "text": [
      "No. of rows where g has value LT8 = 15\n"
     ]
    }
   ],
   "source": [
    "print(f\"No. of rows where g has value LT8 = {df['g'].value_counts()['LT8']}\")"
   ]
  },
  {
   "cell_type": "code",
   "execution_count": 23,
   "metadata": {
    "colab": {
     "base_uri": "https://localhost:8080/"
    },
    "id": "UjlLZzwV7c7X",
    "outputId": "ff1eeb86-c5c8-46ee-8d34-15c24de7f640"
   },
   "outputs": [
    {
     "name": "stdout",
     "output_type": "stream",
     "text": [
      "Standard deviation of f where g = LT8: 0.4444782857614654\n",
      "Standard deviation of f where g = GT8: 0.13906841045302393\n"
     ]
    }
   ],
   "source": [
    "std_lt8 = df[df[\"g\"] == \"LT8\"][\"f\"].std()\n",
    "std_gt8 = df[df[\"g\"] == \"GT8\"][\"f\"].std()\n",
    "\n",
    "print(f\"Standard deviation of f where g = LT8: {std_lt8}\")\n",
    "print(f\"Standard deviation of f where g = GT8: {std_gt8}\")"
   ]
  },
  {
   "cell_type": "markdown",
   "metadata": {
    "id": "sZHvKNAUYSEx"
   },
   "source": [
    "***12. Write a small piece of code to explain broadcasting in numpy.***"
   ]
  },
  {
   "cell_type": "markdown",
   "metadata": {
    "id": "E8UkLfDcCxyQ"
   },
   "source": [
    "Broadcasting is Numpy's way of automatically adjusting the size of matrices or arrays to perform arithmetic operations, if possible.\n",
    "\n",
    "For broadcasting to happen, either the dimensions must match or one of them has to be 1."
   ]
  },
  {
   "cell_type": "code",
   "execution_count": 24,
   "metadata": {
    "colab": {
     "base_uri": "https://localhost:8080/"
    },
    "id": "KRT3fUOxCoYL",
    "outputId": "e513c21e-cecf-45f8-b154-9dc7ce1d3c16"
   },
   "outputs": [
    {
     "name": "stdout",
     "output_type": "stream",
     "text": [
      "[[2 3 4]\n",
      " [6 7 8]]\n"
     ]
    }
   ],
   "source": [
    "#Simple Example\n",
    "#Adding a 2 * 3 matrix with 2*1 matrix\n",
    "arr1 = np.array([[1, 2, 3], [4, 5, 6]])\n",
    "arr2 = np.array([[1], [2]])\n",
    "print(arr1 + arr2)"
   ]
  },
  {
   "cell_type": "markdown",
   "metadata": {
    "id": "ioygjgk2Ea_R"
   },
   "source": [
    "Here, it can be seen that the $2 \\times 1$ matrix is automatically stretched horizontally to become a $2 \\times 3$ matrix, and then the addition is performed. This example demonstrates the basic working of broadcasting in Numpy."
   ]
  },
  {
   "cell_type": "markdown",
   "metadata": {
    "id": "-XUkP4VeD5UV"
   },
   "source": [
    "So, in this way, broadcasting can be used to perform arithmetic operations on non-matching matrices if they follow the rule for broadcasting to happen."
   ]
  },
  {
   "cell_type": "markdown",
   "metadata": {
    "id": "ae1p5KIWYp_G"
   },
   "source": [
    "***13. Write a function to compute the argmin of a numpy array. The function should take a numpy array as input and return the index of the minimum element. You can use the np.argmin function to verify your solution.***"
   ]
  },
  {
   "cell_type": "code",
   "execution_count": 25,
   "metadata": {
    "colab": {
     "base_uri": "https://localhost:8080/"
    },
    "id": "kjI4D-6LfP9S",
    "outputId": "c00f070e-88dd-407e-c1a4-8053a7ad957e"
   },
   "outputs": [
    {
     "name": "stdout",
     "output_type": "stream",
     "text": [
      "argmin through iteration: 31\n",
      "argmin through numpy.argmin: 31\n"
     ]
    }
   ],
   "source": [
    "arr = [random.randint(1, 1000) for _ in range(100)]\n",
    "min_ind = 0\n",
    "\n",
    "for i in range(len(arr)):\n",
    "  if (arr[i]<arr[min_ind]):\n",
    "    min_ind = i\n",
    "\n",
    "print(f\"argmin through iteration: {min_ind}\")\n",
    "print(f\"argmin through numpy.argmin: {np.argmin(arr)}\")"
   ]
  }
 ],
 "metadata": {
  "colab": {
   "provenance": []
  },
  "kernelspec": {
   "display_name": "Python [conda env:base] *",
   "language": "python",
   "name": "conda-base-py"
  },
  "language_info": {
   "codemirror_mode": {
    "name": "ipython",
    "version": 3
   },
   "file_extension": ".py",
   "mimetype": "text/x-python",
   "name": "python",
   "nbconvert_exporter": "python",
   "pygments_lexer": "ipython3",
   "version": "3.12.7"
  }
 },
 "nbformat": 4,
 "nbformat_minor": 4
}
